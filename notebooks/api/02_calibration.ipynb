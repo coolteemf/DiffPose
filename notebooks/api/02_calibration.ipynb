{
 "cells": [
  {
   "cell_type": "raw",
   "id": "a08b0eaa-f104-49a3-bcdf-a1b69ea31bc7",
   "metadata": {},
   "source": [
    "---\n",
    "title: calibration\n",
    "subtitle: Rigid transforms with camera calibration matrices\n",
    "---"
   ]
  },
  {
   "cell_type": "markdown",
   "id": "03a5387b-a349-4b8e-a144-a56d30972ffa",
   "metadata": {},
   "source": [
    "An X-ray C-arm can be modeled as a pinhole camera with its own extrinsic and intrinsic matrices. \n",
    "This module provides utilities for parsing these matrices and working with rigid transforms."
   ]
  },
  {
   "cell_type": "code",
   "execution_count": null,
   "id": "8634b454-9289-4857-80f8-232d913de6a8",
   "metadata": {},
   "outputs": [],
   "source": [
    "#| default_exp calibration"
   ]
  },
  {
   "cell_type": "code",
   "execution_count": null,
   "id": "359cb689-f4ab-4336-a5a9-b75be9492fb7",
   "metadata": {},
   "outputs": [],
   "source": [
    "#| hide\n",
    "from nbdev.showdoc import *"
   ]
  },
  {
   "cell_type": "code",
   "execution_count": null,
   "id": "9f67e02b-580c-4f37-9a90-fcca5713de08",
   "metadata": {},
   "outputs": [],
   "source": [
    "#| export\n",
    "import torch"
   ]
  },
  {
   "cell_type": "markdown",
   "id": "7968b28c-ba34-49c7-8acc-bb080c0e4556",
   "metadata": {},
   "source": [
    "## Computing a perspective projection\n",
    "\n",
    "Given an `extrinsic` and `intrinsic` camera matrix, we can compute the perspective projection of a batch of points.\n",
    "This is used for computing where fiducials in world coordinates get mapped onto the image plane."
   ]
  },
  {
   "cell_type": "code",
   "execution_count": null,
   "id": "008781b6-de62-473f-b2d7-c2f7eb051b41",
   "metadata": {},
   "outputs": [],
   "source": [
    "#| export\n",
    "from typing import Optional\n",
    "\n",
    "from beartype import beartype\n",
    "from diffdrr.pose import RigidTransform\n",
    "from jaxtyping import Float, jaxtyped"
   ]
  },
  {
   "cell_type": "code",
   "execution_count": null,
   "id": "8347585b-1a3b-4246-9fc4-d5f4dad5944b",
   "metadata": {},
   "outputs": [],
   "source": [
    "#| export\n",
    "@jaxtyped(typechecker=beartype)\n",
    "def perspective_projection(\n",
    "    extrinsic: RigidTransform,  # Extrinsic camera matrix (world to camera)\n",
    "    intrinsic: Float[torch.Tensor, \"3 3\"],  # Intrinsic camera matrix (camera to image)\n",
    "    x: Float[torch.Tensor, \"b n 3\"],  # World coordinates\n",
    ") -> Float[torch.Tensor, \"b n 2\"]:\n",
    "    x = extrinsic(x)\n",
    "    x = torch.einsum(\"ij, bnj -> bni\", intrinsic, x)\n",
    "    z = x[..., -1].unsqueeze(-1).clone()\n",
    "    x = x / z\n",
    "    return x[..., :2]"
   ]
  },
  {
   "cell_type": "code",
   "execution_count": null,
   "id": "b18dbb07-f6cd-4de2-ad25-a784ad621471",
   "metadata": {},
   "outputs": [],
   "source": [
    "#| hide\n",
    "import nbdev\n",
    "\n",
    "nbdev.nbdev_export()"
   ]
  },
  {
   "cell_type": "code",
   "execution_count": null,
   "id": "a304b6f4-6558-4d63-99f8-dd9c82b9fddf",
   "metadata": {},
   "outputs": [],
   "source": []
  }
 ],
 "metadata": {
  "kernelspec": {
   "display_name": "python3",
   "language": "python",
   "name": "python3"
  }
 },
 "nbformat": 4,
 "nbformat_minor": 5
}
